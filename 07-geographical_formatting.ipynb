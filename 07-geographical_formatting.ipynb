{
 "cells": [
  {
   "cell_type": "markdown",
   "metadata": {},
   "source": [
    "## 07 - Geographical Formatting\n",
    "Here is pathway toward aggregating, grouping and narrowing down your dataframe. (There is no right way--there are just ways that work better than others.)"
   ]
  },
  {
   "cell_type": "markdown",
   "metadata": {
    "collapsed": true
   },
   "source": [
    "Import the data into pandas"
   ]
  },
  {
   "cell_type": "code",
   "execution_count": 477,
   "metadata": {},
   "outputs": [],
   "source": [
    "import numpy as np\n",
    "import pandas as pd\n",
    "from datetime import datetime\n",
    "df = pd.read_csv(\"/Users/laurabejderjensen/Desktop/GitHub/federal_judges_appointment/data/data.csv\")\n",
    "\n",
    "# I drop the rows where the judge was confirmed by voice call.\n",
    "df = df[df['record_vote_number'].notna()]"
   ]
  },
  {
   "cell_type": "markdown",
   "metadata": {},
   "source": [
    "And change the `confirmation_date` column from string to datetime format. "
   ]
  },
  {
   "cell_type": "code",
   "execution_count": 478,
   "metadata": {},
   "outputs": [],
   "source": [
    "df['confirmation_date'] = pd.to_datetime(df.confirmation_date)"
   ]
  },
  {
   "cell_type": "code",
   "execution_count": 479,
   "metadata": {},
   "outputs": [],
   "source": [
    "df['yea_votes'] = df['yea_votes'].astype(int)\n",
    "df['nay_votes'] = df['nay_votes'].astype(int)"
   ]
  },
  {
   "cell_type": "markdown",
   "metadata": {},
   "source": [
    "Order the dataframe by the confirmation date. This will secure that the final putput will present the judges cronologically (with the lastest confirmation first)."
   ]
  },
  {
   "cell_type": "code",
   "execution_count": 480,
   "metadata": {},
   "outputs": [],
   "source": [
    "#df1 = df.groupby('circuit').order_by['name'].value_counts().reset_index(name='count')\n",
    "df1 = df.sort_values('confirmation_date', ascending=False)"
   ]
  },
  {
   "cell_type": "markdown",
   "metadata": {},
   "source": [
    "Here I build the **\"article:\"** field of my geojson doc. This article contains all the information about each judge in readable text (and tables)."
   ]
  },
  {
   "cell_type": "code",
   "execution_count": 481,
   "metadata": {
    "scrolled": true
   },
   "outputs": [],
   "source": [
    "#Moving the values from the two right columns into a new column\n",
    "#One that human readers can understand\n",
    "df1[\"string\"] = \"<strong style=\\\"font-size:18px;\\\">\" + df[\"name\"] + \"</strong> <br><br>\" + df[\"name\"] + \" was confirmed to be a United States \\\n",
    "    circuit judge of the United States Court of Appeals for the \" + df['circuit'] + \" Circuit by the senate on the \" + df1[\"confirmation_date\"].astype(str) + \".<br>\\\n",
    "    \" + df1[\"yea_votes\"].astype(str) + \" senators voted yea to confirm\\\n",
    "    while \" + df1[\"nay_votes\"].astype(str) + \" voted nay. \\\n",
    "    <table>\\\n",
    "        <col width=\\\"100\\\"> \\\n",
    "            <col width=\\\"70\\\"> \\\n",
    "                <col width=\\\"70\\\"> \\\n",
    "                    <col width=\\\"70\\\"> \\\n",
    "                        <tr> \\\n",
    "                            <th style=\\\"text-align:left\\\">Party votes</th> \\\n",
    "                            <th style=\\\"text-align:right\\\">Yea</th> \\\n",
    "                            <th style=\\\"text-align:right\\\">Nay</th> \\\n",
    "                            <th style=\\\"text-align:right\\\">No vote</th> \\\n",
    "                        </tr>\\\n",
    "                        <tr>\\\n",
    "                            <td>Democrats</td>\\\n",
    "                            <td style=\\\"text-align:right\\\">\" + df1[\"D_yea\"].astype(str) + \"</td>\\\n",
    "                            <td style=\\\"text-align:right\\\">\" + df1[\"D_nay\"].astype(str) + \"</td>\\\n",
    "                            <td style=\\\"text-align:right\\\">\" + df1[\"D_no_vote\"].astype(str) + \"</td>\\\n",
    "                        </tr>\\\n",
    "                        <tr>\\\n",
    "                            <td>Republicans</td>\\\n",
    "                            <td style=\\\"text-align:right\\\">\" + df1[\"R_yea\"].astype(str) + \"</td> \\\n",
    "                            <td style=\\\"text-align:right\\\">\" + df1[\"R_nay\"].astype(str) + \"</td> \\\n",
    "                            <td style=\\\"text-align:right\\\">\" + df1[\"R_no_vote\"].astype(str) + \"</td> \\\n",
    "                        </tr> \\\n",
    "                        <tr> \\\n",
    "                            <td>Independents</td> \\\n",
    "                            <td style=\\\"text-align:right\\\">\" + df1[\"I_yea\"].astype(str) + \"</td> \\\n",
    "                            <td style=\\\"text-align:right\\\">\" + df1[\"I_nay\"].astype(str) + \"</td> \\\n",
    "                            <td style=\\\"text-align:right\\\">\" + df1[\"I_no_vote\"].astype(str) + \"</td> \\\n",
    "                        </tr> \\\n",
    "    </table>\""
   ]
  },
  {
   "cell_type": "markdown",
   "metadata": {},
   "source": [
    "Then I merge all the articles into **one row per each United States circuit court of appeals**. "
   ]
  },
  {
   "cell_type": "code",
   "execution_count": 482,
   "metadata": {
    "scrolled": true
   },
   "outputs": [],
   "source": [
    "#this is just two different ways to do this:\n",
    "#one using % as the wild card\n",
    "#and one using .format and {0} as the wild card\n",
    "\n",
    "output = df1.groupby('circuit')['string'].apply(lambda x: \"<div class='confirmed_judges'><h2><b>Confirmed Circuit Judges</b></h2><P>{0}</P></div>\".format('</p><p> '.join(x))).reset_index(name='properties.article')\n"
   ]
  },
  {
   "cell_type": "markdown",
   "metadata": {},
   "source": [
    "I save the `circuit` column as the `properties.name` column too."
   ]
  },
  {
   "cell_type": "code",
   "execution_count": 483,
   "metadata": {},
   "outputs": [],
   "source": [
    "#Add some color\n",
    "#output['properties.color'] = \"#35476E\"\n",
    "output['properties.name'] = output['circuit']"
   ]
  },
  {
   "cell_type": "markdown",
   "metadata": {},
   "source": [
    "### geojson > pandas > mapbox\n",
    "\n",
    "In this section I prepare the geojson file and merge it with the judge data."
   ]
  },
  {
   "cell_type": "code",
   "execution_count": 484,
   "metadata": {},
   "outputs": [],
   "source": [
    "#Some nice imports\n",
    "import requests\n",
    "import json\n",
    "import numpy as np\n",
    "import pandas as pd\n",
    "from pandas import json_normalize\n"
   ]
  },
  {
   "cell_type": "markdown",
   "metadata": {},
   "source": [
    "Load the geojson file Exported from Mapshaper"
   ]
  },
  {
   "cell_type": "code",
   "execution_count": 485,
   "metadata": {},
   "outputs": [],
   "source": [
    "with open('map/courts13_join.json') as json_data:\n",
    "    geometry_data = json.load(json_data)"
   ]
  },
  {
   "cell_type": "code",
   "execution_count": 486,
   "metadata": {},
   "outputs": [],
   "source": [
    "##Normalize the hierarchy  so you have simple rows in a dataframe\n",
    "##Note that you need to extract it from geometry_data['features']\n",
    "geo = pd.DataFrame.from_dict(json_normalize(geometry_data['features']), orient='columns')"
   ]
  },
  {
   "cell_type": "markdown",
   "metadata": {},
   "source": [
    "Now I begin **building the properties** necessary for the geojson file.\n",
    "\n",
    "**name:** This is the name of the location (the circuit) that shows up when you rollover the shape.\n",
    "\n",
    "(*lambda* Which you will see a lot of below, Is what is called an anonymous function or one-line function. It allows you to do transformations on iterated values, along with other stuff...Here it changes the line to title case)"
   ]
  },
  {
   "cell_type": "markdown",
   "metadata": {},
   "source": [
    "But first I loop through all the districts and create the name in letters not numbers. It looks better. Afterwards I add the rest of the name, so it says \"This is the x Circuit\"."
   ]
  },
  {
   "cell_type": "code",
   "execution_count": 487,
   "metadata": {},
   "outputs": [],
   "source": [
    "names = []\n",
    "for index, row in geo.iterrows():\n",
    "    name = {}\n",
    "    name['properties.District_N'] = row['properties.District_N']\n",
    "    if row['properties.District_N'] == '1':\n",
    "        name['properties.name'] = \"First\"\n",
    "    elif row['properties.District_N'] == '2':\n",
    "        name['properties.name'] = \"Second\"\n",
    "    elif row['properties.District_N'] == '3':\n",
    "        name['properties.name'] = \"Third\"\n",
    "    elif row['properties.District_N'] == '4':\n",
    "        name['properties.name'] = \"Fourth\"\n",
    "    elif row['properties.District_N'] == '5':\n",
    "        name['properties.name'] = \"Fifth\"\n",
    "    elif row['properties.District_N'] == '6':\n",
    "        name['properties.name'] = \"Sixth\"\n",
    "    elif row['properties.District_N'] == '7':\n",
    "        name['properties.name'] = \"Seventh\"\n",
    "    elif row['properties.District_N'] == '8':\n",
    "        name['properties.name'] = \"Eighth\"\n",
    "    elif row['properties.District_N'] == '9':\n",
    "        name['properties.name'] = \"Ninth\"\n",
    "    elif row['properties.District_N'] == '10':\n",
    "        name['properties.name'] = \"Tenth\"\n",
    "    elif row['properties.District_N'] == '11':\n",
    "        name['properties.name'] = \"Eleventh\"\n",
    "    elif row['properties.District_N'] == 'District of Columbia':\n",
    "        name['properties.name'] = \"District of Columbia\"\n",
    "    else:\n",
    "        pass\n",
    "    names.append(name)\n",
    "names\n",
    "\n",
    "geo1 = pd.DataFrame(names)"
   ]
  },
  {
   "cell_type": "code",
   "execution_count": 488,
   "metadata": {},
   "outputs": [],
   "source": [
    "geography = geo.merge(geo1, how='left', on='properties.District_N')"
   ]
  },
  {
   "cell_type": "code",
   "execution_count": 489,
   "metadata": {},
   "outputs": [],
   "source": [
    "def add_text(cell): \n",
    "    return \"This is the \" + cell + \" Circuit\""
   ]
  },
  {
   "cell_type": "markdown",
   "metadata": {},
   "source": [
    "\n",
    "**headline:** This is the lead sentence or bullet point displayed when you rollover the shape.\n"
   ]
  },
  {
   "cell_type": "code",
   "execution_count": 490,
   "metadata": {},
   "outputs": [],
   "source": [
    "#df2['properties.headline'] = df2['properties.District_N'].apply(lambda x: \"This is in district \" + x)\n",
    "geography['properties.headline'] = geography['properties.name'].apply(add_text)"
   ]
  },
  {
   "cell_type": "code",
   "execution_count": 491,
   "metadata": {},
   "outputs": [],
   "source": [
    "data = geography.merge(output, how='left', on='properties.name')"
   ]
  },
  {
   "cell_type": "code",
   "execution_count": 492,
   "metadata": {},
   "outputs": [],
   "source": [
    "data = data.drop('circuit', axis=1)"
   ]
  },
  {
   "cell_type": "markdown",
   "metadata": {},
   "source": [
    "\n",
    "**color:** This will set the color for every shape. Here we are making semi-random colors for every single shape...Not a good thing to do. But definitely have a lot of funWith your color algorithms here. You want the colors to Reflect different ranges of values. Random is the last thing you want to do. But the function below builds random hexadecimal color values.\n"
   ]
  },
  {
   "cell_type": "markdown",
   "metadata": {},
   "source": [
    "\n",
    "**group_id:** This separates different groups with the pulldown menu. Showing everything should be groups 0, Individual groups should begin at 1 And go up in order (2, 3, 4). If you want to have completely different groupsShowing different information but in the same place, talk to me about that.\n",
    "\n",
    "**group_name:** should correspond to **group_id:** It is the name that shows up in the menubar."
   ]
  },
  {
   "cell_type": "code",
   "execution_count": 493,
   "metadata": {},
   "outputs": [],
   "source": [
    "data['properties.group_id'] = 0"
   ]
  },
  {
   "cell_type": "markdown",
   "metadata": {},
   "source": [
    "## Creating a new dataframe with information from each congress\n",
    "Because I want the information in the map to be grouped by congress number I create an additional dataframe with all the same information but this time with group-ids corresponding to the congress number.\n",
    "- 107th congress = 1\n",
    "- 108th congress = 2\n",
    "- 109th congress = 3 <br>\n",
    "...\n",
    "- 117th congress = 11"
   ]
  },
  {
   "cell_type": "code",
   "execution_count": 494,
   "metadata": {},
   "outputs": [],
   "source": [
    "congresses_df = df1.groupby(['congress_no', 'circuit'])['string'].apply(lambda x: \"<div class='confirmed_judges'><h2><b>Confirmed Circuit Judges</b></h2><P>{0}</P></div>\".format('</p><p> '.join(x))).reset_index(name='properties.article')"
   ]
  },
  {
   "cell_type": "code",
   "execution_count": 495,
   "metadata": {},
   "outputs": [],
   "source": [
    "numbers = []\n",
    "for index, row in congresses_df.iterrows():\n",
    "    number = {}\n",
    "    if row.congress_no == 107:\n",
    "        number['congress_no1'] = row.congress_no\n",
    "        number['properties.group_id'] = '1'\n",
    "    elif row.congress_no == 108:\n",
    "        number['congress_no1'] = row.congress_no\n",
    "        number['properties.group_id'] = '2'\n",
    "    elif row.congress_no == 109:\n",
    "        number['congress_no1'] = row.congress_no\n",
    "        number['properties.group_id'] = '3'\n",
    "    elif row.congress_no == 110:\n",
    "        number['congress_no1'] = row.congress_no\n",
    "        number['properties.group_id'] = '4'\n",
    "    elif row.congress_no == 111:\n",
    "        number['congress_no1'] = row.congress_no\n",
    "        number['properties.group_id'] = '5'\n",
    "    elif row.congress_no == 112:\n",
    "        number['congress_no1'] = row.congress_no\n",
    "        number['properties.group_id'] = '6'\n",
    "    elif row.congress_no == 113:\n",
    "        number['congress_no1'] = row.congress_no\n",
    "        number['properties.group_id'] = '7'\n",
    "    elif row.congress_no == 114:\n",
    "        number['congress_no1'] = row.congress_no\n",
    "        number['properties.group_id'] = '8'\n",
    "    elif row.congress_no == 115:\n",
    "        number['congress_no1'] = row.congress_no\n",
    "        number['properties.group_id'] = '9'\n",
    "    elif row.congress_no == 116:\n",
    "        number['congress_no1'] = row.congress_no\n",
    "        number['properties.group_id'] = '10'\n",
    "    else:\n",
    "        number['congress_no1'] = row.congress_no\n",
    "        number['properties.group_id'] = '11'\n",
    "\n",
    "    numbers.append(number)\n",
    "names\n",
    "\n",
    "df_numbers = pd.DataFrame(numbers)"
   ]
  },
  {
   "cell_type": "code",
   "execution_count": 496,
   "metadata": {},
   "outputs": [],
   "source": [
    "# Assign the properties.group:id to the rows.\n",
    "congresses = pd.concat([congresses_df, df_numbers], axis = 1)\n",
    "congresses = congresses.drop(['congress_no1'], axis = 1)"
   ]
  },
  {
   "cell_type": "code",
   "execution_count": 497,
   "metadata": {},
   "outputs": [],
   "source": [
    "congresses['properties.name'] = congresses['circuit']\n",
    "congresses = congresses.drop('circuit', axis=1)"
   ]
  },
  {
   "cell_type": "code",
   "execution_count": 498,
   "metadata": {},
   "outputs": [],
   "source": [
    "data1 = congresses.merge(geography, how='right', on='properties.name')\n",
    "data1 = data1[['type', 'properties.District_N', 'properties.District_Name', 'geometry.coordinates', 'geometry.type', 'properties.name', 'properties.headline', 'properties.article', 'properties.group_id']]"
   ]
  },
  {
   "cell_type": "code",
   "execution_count": 499,
   "metadata": {},
   "outputs": [],
   "source": [
    "all_data = pd.concat([data, data1], ignore_index=True, axis=0)"
   ]
  },
  {
   "cell_type": "code",
   "execution_count": 500,
   "metadata": {},
   "outputs": [],
   "source": [
    "def category_num(cell):\n",
    "    cate_list = ['All congresses',\n",
    "                 '107th Congress',\n",
    "                 '108th Congress',\n",
    "                 '109th Congress',\n",
    "                 '110th Congress',\n",
    "                 '111th Congress',\n",
    "                 '112th Congress',\n",
    "                 '113th Congress',\n",
    "                 '114th Congress',\n",
    "                 '115th Congress',\n",
    "                 '116th Congress',\n",
    "                 '117th Congress'\n",
    "                 ]  \n",
    "    congress = int(cell)\n",
    "    for i in range(0,12):\n",
    "        if congress == i:\n",
    "            return str(cate_list[i])"
   ]
  },
  {
   "cell_type": "code",
   "execution_count": 501,
   "metadata": {},
   "outputs": [],
   "source": [
    "all_data['properties.group_name'] = all_data['properties.group_id'].apply(category_num)"
   ]
  },
  {
   "cell_type": "markdown",
   "metadata": {},
   "source": [
    "## Setting the colors\n",
    "Here I set the colors for each circuit."
   ]
  },
  {
   "cell_type": "code",
   "execution_count": 502,
   "metadata": {},
   "outputs": [],
   "source": [
    "color = [\"#1f78b4\", \"#b2df8a\", \"#33a02c\", \"#fb9a99\", \"#e31a1c\", \"#fdbf6f\", \"#ff7f00\", \"#cab2d6\", \"#6a3d9a\", \"#ffff99\", \"#b15928\", \"#a6cee3\"]\n",
    "\n",
    "def colors(cell):\n",
    "    if cell == 'District of Columbia':\n",
    "        return color[0]\n",
    "    else:\n",
    "        return color[int(cell)]"
   ]
  },
  {
   "cell_type": "code",
   "execution_count": 503,
   "metadata": {},
   "outputs": [],
   "source": [
    "all_data['properties.color'] = all_data['properties.District_N'].apply(colors)"
   ]
  },
  {
   "cell_type": "code",
   "execution_count": 504,
   "metadata": {},
   "outputs": [
    {
     "data": {
      "text/html": [
       "<div>\n",
       "<style scoped>\n",
       "    .dataframe tbody tr th:only-of-type {\n",
       "        vertical-align: middle;\n",
       "    }\n",
       "\n",
       "    .dataframe tbody tr th {\n",
       "        vertical-align: top;\n",
       "    }\n",
       "\n",
       "    .dataframe thead th {\n",
       "        text-align: right;\n",
       "    }\n",
       "</style>\n",
       "<table border=\"1\" class=\"dataframe\">\n",
       "  <thead>\n",
       "    <tr style=\"text-align: right;\">\n",
       "      <th></th>\n",
       "      <th>type</th>\n",
       "      <th>properties.District_N</th>\n",
       "      <th>properties.District_Name</th>\n",
       "      <th>geometry.coordinates</th>\n",
       "      <th>geometry.type</th>\n",
       "      <th>properties.name</th>\n",
       "      <th>properties.headline</th>\n",
       "      <th>properties.article</th>\n",
       "      <th>properties.group_id</th>\n",
       "      <th>properties.group_name</th>\n",
       "      <th>properties.color</th>\n",
       "    </tr>\n",
       "  </thead>\n",
       "  <tbody>\n",
       "    <tr>\n",
       "      <th>0</th>\n",
       "      <td>Feature</td>\n",
       "      <td>11</td>\n",
       "      <td>United States Court of Appeals for the Elevent...</td>\n",
       "      <td>[[[[-87.987045288, 35.007518768], [-86.8366699...</td>\n",
       "      <td>MultiPolygon</td>\n",
       "      <td>Eleventh</td>\n",
       "      <td>This is the Eleventh Circuit</td>\n",
       "      <td>&lt;div class='confirmed_judges'&gt;&lt;h2&gt;&lt;b&gt;Confirmed...</td>\n",
       "      <td>0</td>\n",
       "      <td>All congresses</td>\n",
       "      <td>#a6cee3</td>\n",
       "    </tr>\n",
       "    <tr>\n",
       "      <th>1</th>\n",
       "      <td>Feature</td>\n",
       "      <td>9</td>\n",
       "      <td>United States Court of Appeals for the Ninth C...</td>\n",
       "      <td>[[[[-109.044883728, 36.998630524], [-109.04572...</td>\n",
       "      <td>MultiPolygon</td>\n",
       "      <td>Ninth</td>\n",
       "      <td>This is the Ninth Circuit</td>\n",
       "      <td>&lt;div class='confirmed_judges'&gt;&lt;h2&gt;&lt;b&gt;Confirmed...</td>\n",
       "      <td>0</td>\n",
       "      <td>All congresses</td>\n",
       "      <td>#ffff99</td>\n",
       "    </tr>\n",
       "    <tr>\n",
       "      <th>2</th>\n",
       "      <td>Feature</td>\n",
       "      <td>8</td>\n",
       "      <td>United States Court of Appeals for the Eighth ...</td>\n",
       "      <td>[[[[-89.716941833, 36.00151825], [-89.72039032...</td>\n",
       "      <td>MultiPolygon</td>\n",
       "      <td>Eighth</td>\n",
       "      <td>This is the Eighth Circuit</td>\n",
       "      <td>&lt;div class='confirmed_judges'&gt;&lt;h2&gt;&lt;b&gt;Confirmed...</td>\n",
       "      <td>0</td>\n",
       "      <td>All congresses</td>\n",
       "      <td>#6a3d9a</td>\n",
       "    </tr>\n",
       "    <tr>\n",
       "      <th>3</th>\n",
       "      <td>Feature</td>\n",
       "      <td>10</td>\n",
       "      <td>United States Court of Appeals for the Tenth C...</td>\n",
       "      <td>[[[-104.052841187, 41.00169754], [-102.9998245...</td>\n",
       "      <td>Polygon</td>\n",
       "      <td>Tenth</td>\n",
       "      <td>This is the Tenth Circuit</td>\n",
       "      <td>&lt;div class='confirmed_judges'&gt;&lt;h2&gt;&lt;b&gt;Confirmed...</td>\n",
       "      <td>0</td>\n",
       "      <td>All congresses</td>\n",
       "      <td>#b15928</td>\n",
       "    </tr>\n",
       "    <tr>\n",
       "      <th>4</th>\n",
       "      <td>Feature</td>\n",
       "      <td>2</td>\n",
       "      <td>United States Court of Appeals for the Second ...</td>\n",
       "      <td>[[[[-71.964263916, 41.340965271], [-71.9668426...</td>\n",
       "      <td>MultiPolygon</td>\n",
       "      <td>Second</td>\n",
       "      <td>This is the Second Circuit</td>\n",
       "      <td>&lt;div class='confirmed_judges'&gt;&lt;h2&gt;&lt;b&gt;Confirmed...</td>\n",
       "      <td>0</td>\n",
       "      <td>All congresses</td>\n",
       "      <td>#33a02c</td>\n",
       "    </tr>\n",
       "    <tr>\n",
       "      <th>5</th>\n",
       "      <td>Feature</td>\n",
       "      <td>4</td>\n",
       "      <td>United States Court of Appeals for the Fourth ...</td>\n",
       "      <td>[[[[-75.541755676, 39.450660706], [-75.5586166...</td>\n",
       "      <td>MultiPolygon</td>\n",
       "      <td>Fourth</td>\n",
       "      <td>This is the Fourth Circuit</td>\n",
       "      <td>&lt;div class='confirmed_judges'&gt;&lt;h2&gt;&lt;b&gt;Confirmed...</td>\n",
       "      <td>0</td>\n",
       "      <td>All congresses</td>\n",
       "      <td>#e31a1c</td>\n",
       "    </tr>\n",
       "    <tr>\n",
       "      <th>6</th>\n",
       "      <td>Feature</td>\n",
       "      <td>District of Columbia</td>\n",
       "      <td>United States Court of Appeals for the Distric...</td>\n",
       "      <td>[[[-77.026161194, 38.801475525], [-77.02017974...</td>\n",
       "      <td>Polygon</td>\n",
       "      <td>District of Columbia</td>\n",
       "      <td>This is the District of Columbia Circuit</td>\n",
       "      <td>&lt;div class='confirmed_judges'&gt;&lt;h2&gt;&lt;b&gt;Confirmed...</td>\n",
       "      <td>0</td>\n",
       "      <td>All congresses</td>\n",
       "      <td>#1f78b4</td>\n",
       "    </tr>\n",
       "    <tr>\n",
       "      <th>7</th>\n",
       "      <td>Feature</td>\n",
       "      <td>7</td>\n",
       "      <td>United States Court of Appeals for the Seventh...</td>\n",
       "      <td>[[[[-90.237174988, 41.684024811], [-90.2111663...</td>\n",
       "      <td>MultiPolygon</td>\n",
       "      <td>Seventh</td>\n",
       "      <td>This is the Seventh Circuit</td>\n",
       "      <td>&lt;div class='confirmed_judges'&gt;&lt;h2&gt;&lt;b&gt;Confirmed...</td>\n",
       "      <td>0</td>\n",
       "      <td>All congresses</td>\n",
       "      <td>#cab2d6</td>\n",
       "    </tr>\n",
       "    <tr>\n",
       "      <th>8</th>\n",
       "      <td>Feature</td>\n",
       "      <td>6</td>\n",
       "      <td>United States Court of Appeals for the Sixth C...</td>\n",
       "      <td>[[[[-82.592788696, 38.41859436], [-82.59582519...</td>\n",
       "      <td>MultiPolygon</td>\n",
       "      <td>Sixth</td>\n",
       "      <td>This is the Sixth Circuit</td>\n",
       "      <td>&lt;div class='confirmed_judges'&gt;&lt;h2&gt;&lt;b&gt;Confirmed...</td>\n",
       "      <td>0</td>\n",
       "      <td>All congresses</td>\n",
       "      <td>#ff7f00</td>\n",
       "    </tr>\n",
       "    <tr>\n",
       "      <th>9</th>\n",
       "      <td>Feature</td>\n",
       "      <td>5</td>\n",
       "      <td>United States Court of Appeals for the Fifth C...</td>\n",
       "      <td>[[[[-90.893592834, 29.046777725], [-90.8644332...</td>\n",
       "      <td>MultiPolygon</td>\n",
       "      <td>Fifth</td>\n",
       "      <td>This is the Fifth Circuit</td>\n",
       "      <td>&lt;div class='confirmed_judges'&gt;&lt;h2&gt;&lt;b&gt;Confirmed...</td>\n",
       "      <td>0</td>\n",
       "      <td>All congresses</td>\n",
       "      <td>#fdbf6f</td>\n",
       "    </tr>\n",
       "    <tr>\n",
       "      <th>10</th>\n",
       "      <td>Feature</td>\n",
       "      <td>1</td>\n",
       "      <td>United States Court of Appeals for the First C...</td>\n",
       "      <td>[[[[-70.22441864, 43.540428162], [-70.24401092...</td>\n",
       "      <td>MultiPolygon</td>\n",
       "      <td>First</td>\n",
       "      <td>This is the First Circuit</td>\n",
       "      <td>&lt;div class='confirmed_judges'&gt;&lt;h2&gt;&lt;b&gt;Confirmed...</td>\n",
       "      <td>0</td>\n",
       "      <td>All congresses</td>\n",
       "      <td>#b2df8a</td>\n",
       "    </tr>\n",
       "    <tr>\n",
       "      <th>11</th>\n",
       "      <td>Feature</td>\n",
       "      <td>3</td>\n",
       "      <td>United States Court of Appeals for the Third C...</td>\n",
       "      <td>[[[[-74.542404175, 39.304512024], [-74.5483551...</td>\n",
       "      <td>MultiPolygon</td>\n",
       "      <td>Third</td>\n",
       "      <td>This is the Third Circuit</td>\n",
       "      <td>&lt;div class='confirmed_judges'&gt;&lt;h2&gt;&lt;b&gt;Confirmed...</td>\n",
       "      <td>0</td>\n",
       "      <td>All congresses</td>\n",
       "      <td>#fb9a99</td>\n",
       "    </tr>\n",
       "  </tbody>\n",
       "</table>\n",
       "</div>"
      ],
      "text/plain": [
       "       type properties.District_N  \\\n",
       "0   Feature                    11   \n",
       "1   Feature                     9   \n",
       "2   Feature                     8   \n",
       "3   Feature                    10   \n",
       "4   Feature                     2   \n",
       "5   Feature                     4   \n",
       "6   Feature  District of Columbia   \n",
       "7   Feature                     7   \n",
       "8   Feature                     6   \n",
       "9   Feature                     5   \n",
       "10  Feature                     1   \n",
       "11  Feature                     3   \n",
       "\n",
       "                             properties.District_Name  \\\n",
       "0   United States Court of Appeals for the Elevent...   \n",
       "1   United States Court of Appeals for the Ninth C...   \n",
       "2   United States Court of Appeals for the Eighth ...   \n",
       "3   United States Court of Appeals for the Tenth C...   \n",
       "4   United States Court of Appeals for the Second ...   \n",
       "5   United States Court of Appeals for the Fourth ...   \n",
       "6   United States Court of Appeals for the Distric...   \n",
       "7   United States Court of Appeals for the Seventh...   \n",
       "8   United States Court of Appeals for the Sixth C...   \n",
       "9   United States Court of Appeals for the Fifth C...   \n",
       "10  United States Court of Appeals for the First C...   \n",
       "11  United States Court of Appeals for the Third C...   \n",
       "\n",
       "                                 geometry.coordinates geometry.type  \\\n",
       "0   [[[[-87.987045288, 35.007518768], [-86.8366699...  MultiPolygon   \n",
       "1   [[[[-109.044883728, 36.998630524], [-109.04572...  MultiPolygon   \n",
       "2   [[[[-89.716941833, 36.00151825], [-89.72039032...  MultiPolygon   \n",
       "3   [[[-104.052841187, 41.00169754], [-102.9998245...       Polygon   \n",
       "4   [[[[-71.964263916, 41.340965271], [-71.9668426...  MultiPolygon   \n",
       "5   [[[[-75.541755676, 39.450660706], [-75.5586166...  MultiPolygon   \n",
       "6   [[[-77.026161194, 38.801475525], [-77.02017974...       Polygon   \n",
       "7   [[[[-90.237174988, 41.684024811], [-90.2111663...  MultiPolygon   \n",
       "8   [[[[-82.592788696, 38.41859436], [-82.59582519...  MultiPolygon   \n",
       "9   [[[[-90.893592834, 29.046777725], [-90.8644332...  MultiPolygon   \n",
       "10  [[[[-70.22441864, 43.540428162], [-70.24401092...  MultiPolygon   \n",
       "11  [[[[-74.542404175, 39.304512024], [-74.5483551...  MultiPolygon   \n",
       "\n",
       "         properties.name                       properties.headline  \\\n",
       "0               Eleventh              This is the Eleventh Circuit   \n",
       "1                  Ninth                 This is the Ninth Circuit   \n",
       "2                 Eighth                This is the Eighth Circuit   \n",
       "3                  Tenth                 This is the Tenth Circuit   \n",
       "4                 Second                This is the Second Circuit   \n",
       "5                 Fourth                This is the Fourth Circuit   \n",
       "6   District of Columbia  This is the District of Columbia Circuit   \n",
       "7                Seventh               This is the Seventh Circuit   \n",
       "8                  Sixth                 This is the Sixth Circuit   \n",
       "9                  Fifth                 This is the Fifth Circuit   \n",
       "10                 First                 This is the First Circuit   \n",
       "11                 Third                 This is the Third Circuit   \n",
       "\n",
       "                                   properties.article properties.group_id  \\\n",
       "0   <div class='confirmed_judges'><h2><b>Confirmed...                   0   \n",
       "1   <div class='confirmed_judges'><h2><b>Confirmed...                   0   \n",
       "2   <div class='confirmed_judges'><h2><b>Confirmed...                   0   \n",
       "3   <div class='confirmed_judges'><h2><b>Confirmed...                   0   \n",
       "4   <div class='confirmed_judges'><h2><b>Confirmed...                   0   \n",
       "5   <div class='confirmed_judges'><h2><b>Confirmed...                   0   \n",
       "6   <div class='confirmed_judges'><h2><b>Confirmed...                   0   \n",
       "7   <div class='confirmed_judges'><h2><b>Confirmed...                   0   \n",
       "8   <div class='confirmed_judges'><h2><b>Confirmed...                   0   \n",
       "9   <div class='confirmed_judges'><h2><b>Confirmed...                   0   \n",
       "10  <div class='confirmed_judges'><h2><b>Confirmed...                   0   \n",
       "11  <div class='confirmed_judges'><h2><b>Confirmed...                   0   \n",
       "\n",
       "   properties.group_name properties.color  \n",
       "0         All congresses          #a6cee3  \n",
       "1         All congresses          #ffff99  \n",
       "2         All congresses          #6a3d9a  \n",
       "3         All congresses          #b15928  \n",
       "4         All congresses          #33a02c  \n",
       "5         All congresses          #e31a1c  \n",
       "6         All congresses          #1f78b4  \n",
       "7         All congresses          #cab2d6  \n",
       "8         All congresses          #ff7f00  \n",
       "9         All congresses          #fdbf6f  \n",
       "10        All congresses          #b2df8a  \n",
       "11        All congresses          #fb9a99  "
      ]
     },
     "execution_count": 504,
     "metadata": {},
     "output_type": "execute_result"
    }
   ],
   "source": [
    "all_data.loc[all_data['properties.group_name'] == \"All congresses\"]"
   ]
  },
  {
   "cell_type": "markdown",
   "metadata": {},
   "source": [
    "And change the title of each article, so it includes the name of the circuit."
   ]
  },
  {
   "cell_type": "code",
   "execution_count": 505,
   "metadata": {},
   "outputs": [],
   "source": [
    "def add_circuit_name(row):\n",
    "    return row['properties.article'].replace('Confirmed Circuit Judges', 'Confirmed Circuit Judges for the ' + row['properties.name'] + ' Circuit')\n",
    "    \n",
    "all_data['properties.article'] = all_data.apply(add_circuit_name, axis=1)"
   ]
  },
  {
   "cell_type": "markdown",
   "metadata": {},
   "source": [
    "At last I turn the special properties and the geographical information back into **json format** we orient by records because that gives us an array of dictionaries."
   ]
  },
  {
   "cell_type": "code",
   "execution_count": 506,
   "metadata": {},
   "outputs": [],
   "source": [
    "ok_json = json.loads(all_data.to_json(orient='records'))"
   ]
  },
  {
   "cell_type": "markdown",
   "metadata": {},
   "source": [
    "But because we had to normalize the hierarchy of the geojson document we now have to rebuild the hierarchy so this json document becomes geojson, the function below does just that:\n"
   ]
  },
  {
   "cell_type": "code",
   "execution_count": 507,
   "metadata": {},
   "outputs": [],
   "source": [
    "def process_to_geojson(file):\n",
    "    geo_data = {\"type\": \"FeatureCollection\", \"features\":[]}\n",
    "    for row in file:\n",
    "        this_dict = {\"type\": \"Feature\", \"properties\":{}, \"geometry\": {}}\n",
    "        for key, value in row.items():\n",
    "            key_names = key.split('.')\n",
    "            if key_names[0] == 'geometry':\n",
    "                this_dict['geometry'][key_names[1]] = value\n",
    "            if str(key_names[0]) == 'properties':\n",
    "                this_dict['properties'][key_names[1]] = value\n",
    "        geo_data['features'].append(this_dict)\n",
    "    return geo_data"
   ]
  },
  {
   "cell_type": "code",
   "execution_count": 508,
   "metadata": {},
   "outputs": [],
   "source": [
    "geo_format = process_to_geojson(ok_json)"
   ]
  },
  {
   "cell_type": "markdown",
   "metadata": {},
   "source": [
    "Now we can export this to a file!"
   ]
  },
  {
   "cell_type": "code",
   "execution_count": 509,
   "metadata": {},
   "outputs": [],
   "source": [
    "#Variable name\n",
    "with open('map/geo-data.js', 'w') as outfile:\n",
    "    outfile.write(\"var infoData = \")\n",
    "#geojson output\n",
    "with open('map/geo-data.js', 'a') as outfile:\n",
    "    json.dump(geo_format, outfile)"
   ]
  }
 ],
 "metadata": {
  "kernelspec": {
   "display_name": "Python 3.11.0rc2 64-bit ('3.11.0rc2')",
   "language": "python",
   "name": "python3"
  },
  "language_info": {
   "codemirror_mode": {
    "name": "ipython",
    "version": 3
   },
   "file_extension": ".py",
   "mimetype": "text/x-python",
   "name": "python",
   "nbconvert_exporter": "python",
   "pygments_lexer": "ipython3",
   "version": "3.11.0"
  },
  "vscode": {
   "interpreter": {
    "hash": "fa07e5dff76123542c28abca75c0e47ea742948dbeeb360ccfbd2a5c7c277f8b"
   }
  }
 },
 "nbformat": 4,
 "nbformat_minor": 2
}
