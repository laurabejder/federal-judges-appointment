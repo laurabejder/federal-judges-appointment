{
 "cells": [
  {
   "cell_type": "markdown",
   "metadata": {},
   "source": [
    "## 03 - Cleaning the data\n",
    "\n",
    "This notebook continues the data cleaning from notebook `02-scapring_html`. It uses regular expressions to parce through the html bits and extract the wanted information."
   ]
  },
  {
   "cell_type": "code",
   "execution_count": 1,
   "metadata": {},
   "outputs": [],
   "source": [
    "import pandas as pd\n",
    "import re\n",
    "\n",
    "df = pd.read_csv(\"nominations.csv\")"
   ]
  },
  {
   "cell_type": "code",
   "execution_count": 2,
   "metadata": {},
   "outputs": [],
   "source": [
    "# Strip the concress_no column of any text and years. \n",
    "df['congress_no'] =  df['congress_no'].apply(lambda x: re.sub(r'th Congress .\\d{4}-\\d{4}.','', str(x)))"
   ]
  },
  {
   "cell_type": "code",
   "execution_count": 3,
   "metadata": {},
   "outputs": [],
   "source": [
    "df['circuit'] = df['post'].str.extract('(the \\w.+ Circuit)', expand=False).str.strip()\n",
    "\n",
    "# And strip the column of any additional text so only the circuit names remain.\n",
    "df['circuit'] = df['circuit'].str.replace('the District of Columbia, to be United States Circuit Judge for ','')\n",
    "df['circuit'] = df['circuit'].str.replace('the ','')\n",
    "df['circuit'] = df['circuit'].str.replace(' Circuit','')"
   ]
  },
  {
   "cell_type": "code",
   "execution_count": 4,
   "metadata": {},
   "outputs": [
    {
     "data": {
      "text/html": [
       "<div>\n",
       "<style scoped>\n",
       "    .dataframe tbody tr th:only-of-type {\n",
       "        vertical-align: middle;\n",
       "    }\n",
       "\n",
       "    .dataframe tbody tr th {\n",
       "        vertical-align: top;\n",
       "    }\n",
       "\n",
       "    .dataframe thead th {\n",
       "        text-align: right;\n",
       "    }\n",
       "</style>\n",
       "<table border=\"1\" class=\"dataframe\">\n",
       "  <thead>\n",
       "    <tr style=\"text-align: right;\">\n",
       "      <th></th>\n",
       "      <th>name</th>\n",
       "      <th>nomination_no</th>\n",
       "      <th>congress_no</th>\n",
       "      <th>post</th>\n",
       "      <th>vote</th>\n",
       "      <th>circuit</th>\n",
       "      <th>confirmation_date</th>\n",
       "    </tr>\n",
       "  </thead>\n",
       "  <tbody>\n",
       "    <tr>\n",
       "      <th>189</th>\n",
       "      <td>Terrence L. O'Brien</td>\n",
       "      <td>PN882</td>\n",
       "      <td>107</td>\n",
       "      <td>Terrence L. O'Brien, of Wyoming, to be United ...</td>\n",
       "      <td>Latest Action: 04/15/2002 - Confirmed by the S...</td>\n",
       "      <td>Tenth</td>\n",
       "      <td>04/15/2002</td>\n",
       "    </tr>\n",
       "    <tr>\n",
       "      <th>190</th>\n",
       "      <td>Michael J. Melloy</td>\n",
       "      <td>PN881</td>\n",
       "      <td>107</td>\n",
       "      <td>Michael J. Melloy, of Iowa, to be United State...</td>\n",
       "      <td>Latest Action: 02/11/2002 - Confirmed by the S...</td>\n",
       "      <td>Eighth</td>\n",
       "      <td>02/11/2002</td>\n",
       "    </tr>\n",
       "    <tr>\n",
       "      <th>191</th>\n",
       "      <td>Michael W. McConnell</td>\n",
       "      <td>PN880</td>\n",
       "      <td>107</td>\n",
       "      <td>Michael W. McConnell, of Utah, to be United St...</td>\n",
       "      <td>Latest Action: 11/15/2002 - Confirmed by the S...</td>\n",
       "      <td>Tenth</td>\n",
       "      <td>11/15/2002</td>\n",
       "    </tr>\n",
       "    <tr>\n",
       "      <th>192</th>\n",
       "      <td>William J. Riley</td>\n",
       "      <td>PN458</td>\n",
       "      <td>107</td>\n",
       "      <td>William J. Riley, of Nebraska, to be United St...</td>\n",
       "      <td>Latest Action: 08/02/2001 - Confirmed by the S...</td>\n",
       "      <td>Eighth</td>\n",
       "      <td>08/02/2001</td>\n",
       "    </tr>\n",
       "    <tr>\n",
       "      <th>193</th>\n",
       "      <td>Roger L. Gregory</td>\n",
       "      <td>PN402</td>\n",
       "      <td>107</td>\n",
       "      <td>Roger L. Gregory, of Virginia, to be United St...</td>\n",
       "      <td>Latest Action: 07/20/2001 - Confirmed by the S...</td>\n",
       "      <td>Fourth</td>\n",
       "      <td>07/20/2001</td>\n",
       "    </tr>\n",
       "  </tbody>\n",
       "</table>\n",
       "</div>"
      ],
      "text/plain": [
       "                     name nomination_no congress_no  \\\n",
       "189   Terrence L. O'Brien         PN882         107   \n",
       "190     Michael J. Melloy         PN881         107   \n",
       "191  Michael W. McConnell         PN880         107   \n",
       "192      William J. Riley         PN458         107   \n",
       "193      Roger L. Gregory         PN402         107   \n",
       "\n",
       "                                                  post  \\\n",
       "189  Terrence L. O'Brien, of Wyoming, to be United ...   \n",
       "190  Michael J. Melloy, of Iowa, to be United State...   \n",
       "191  Michael W. McConnell, of Utah, to be United St...   \n",
       "192  William J. Riley, of Nebraska, to be United St...   \n",
       "193  Roger L. Gregory, of Virginia, to be United St...   \n",
       "\n",
       "                                                  vote circuit  \\\n",
       "189  Latest Action: 04/15/2002 - Confirmed by the S...   Tenth   \n",
       "190  Latest Action: 02/11/2002 - Confirmed by the S...  Eighth   \n",
       "191  Latest Action: 11/15/2002 - Confirmed by the S...   Tenth   \n",
       "192  Latest Action: 08/02/2001 - Confirmed by the S...  Eighth   \n",
       "193  Latest Action: 07/20/2001 - Confirmed by the S...  Fourth   \n",
       "\n",
       "    confirmation_date  \n",
       "189        04/15/2002  \n",
       "190        02/11/2002  \n",
       "191        11/15/2002  \n",
       "192        08/02/2001  \n",
       "193        07/20/2001  "
      ]
     },
     "execution_count": 4,
     "metadata": {},
     "output_type": "execute_result"
    }
   ],
   "source": [
    "df['confirmation_date'] = df['vote'].str.extract('(\\d\\d\\W\\d\\d\\W\\d{4})', expand=False).str.strip()\n",
    "df.tail(5)"
   ]
  },
  {
   "cell_type": "code",
   "execution_count": 5,
   "metadata": {},
   "outputs": [],
   "source": [
    "# I make a list out of the column vote so I can use regex on the information in the column. \n",
    "list_vote = df.vote.tolist()"
   ]
  },
  {
   "cell_type": "code",
   "execution_count": 6,
   "metadata": {},
   "outputs": [],
   "source": [
    "for list in list_vote:\n",
    "    try:\n",
    "        sub_regex = r\"Latest Action: \\d\\d\\W\\d\\d\\W\\d{4}.*(\\d\\d) - (\\d*).*: (\\d+)[.].*\"\n",
    "        df.vote.str.split(sub_regex,expand=True)\n",
    "    except:\n",
    "        pass\n",
    "\n",
    "votes = df.vote.str.split(sub_regex,expand=True)"
   ]
  },
  {
   "cell_type": "code",
   "execution_count": 7,
   "metadata": {},
   "outputs": [],
   "source": [
    "df[\"yea_votes\"]= votes[1]\n",
    "df[\"nay_votes\"]= votes[2]\n",
    "df[\"record_vote_number\"]= votes[3]"
   ]
  },
  {
   "cell_type": "code",
   "execution_count": 8,
   "metadata": {},
   "outputs": [],
   "source": [
    "data = df.drop(['post', 'vote'], axis=1)\n",
    "\n",
    "data.to_csv(\"votes.csv\", index=False)"
   ]
  }
 ],
 "metadata": {
  "kernelspec": {
   "display_name": "Python 3.11.0rc2 64-bit ('3.11.0rc2')",
   "language": "python",
   "name": "python3"
  },
  "language_info": {
   "codemirror_mode": {
    "name": "ipython",
    "version": 3
   },
   "file_extension": ".py",
   "mimetype": "text/x-python",
   "name": "python",
   "nbconvert_exporter": "python",
   "pygments_lexer": "ipython3",
   "version": "3.11.0rc2"
  },
  "orig_nbformat": 4,
  "vscode": {
   "interpreter": {
    "hash": "fa07e5dff76123542c28abca75c0e47ea742948dbeeb360ccfbd2a5c7c277f8b"
   }
  }
 },
 "nbformat": 4,
 "nbformat_minor": 2
}
